{
  "nbformat": 4,
  "nbformat_minor": 0,
  "metadata": {
    "colab": {
      "name": "GCo_one.ipynb",
      "provenance": [],
      "mount_file_id": "1AfPehpkjPW6Rfd5Z0aqTutfIwEm86SC3",
      "authorship_tag": "ABX9TyMUFyyZ1UM3sm8ITeyhxSIc",
      "include_colab_link": true
    },
    "kernelspec": {
      "name": "python3",
      "display_name": "Python 3"
    },
    "language_info": {
      "name": "python"
    }
  },
  "cells": [
    {
      "cell_type": "markdown",
      "metadata": {
        "id": "view-in-github",
        "colab_type": "text"
      },
      "source": [
        "<a href=\"https://colab.research.google.com/github/inspirecoder/inspirecoder/blob/main/GCo_one.ipynb\" target=\"_parent\"><img src=\"https://colab.research.google.com/assets/colab-badge.svg\" alt=\"Open In Colab\"/></a>"
      ]
    },
    {
      "cell_type": "code",
      "source": [
        "#Importing the packages\n",
        "import pandas as pd\n",
        "import numpy as np\n",
        "from sklearn. feature_extraction. text import CountVectorizer\n",
        "from sklearn. model_selection import train_test_split\n",
        "from sklearn. tree import DecisionTreeClassifier\n",
        "\n",
        "import nltk\n",
        "import re\n",
        "#nltk. download(‘stopwords’)\n",
        "from nltk. corpus import stopwords\n",
        "stopword = set(stopwords.words('english'))\n",
        "stemmer = nltk. SnowballStemmer('english')\n",
        "\n",
        "data = pd. read_csv('labeled_data.csv')\n",
        "#To preview the data\n",
        "print(data. head())\n",
        "\n",
        "data['labels'] = data['class']. map({0: “Hate Speech”, 1: “Offensive Speech”, 2: “No Hate and Offensive Speech”})\n",
        "data = data[[“tweet”, “labels”]]\n",
        "print(data. head())\n",
        "\n",
        "def clean (text):\n",
        "text = str (text). lower()\n",
        "text = re. sub(‘[.?]’, ”, text)\n",
        "text = re. sub(‘https?://\\S+|www.\\S+’, ”, text)\n",
        "text = re. sub(‘<.?>+’, ”, text)\n",
        "text = re. sub(‘[%s]’ % re. escape(string. punctuation), ”, text)\n",
        "text = re. sub(‘\\n’, ”, text)\n",
        "text = re. sub(‘\\w\\d\\w‘, ”, text)\n",
        "text = [word for word in text.split(‘ ‘) if word not in stopword]\n",
        "text=” “. join(text)\n",
        "text = [stemmer. stem(word) for word in text. split(‘ ‘)]\n",
        "text=” “. join(text)\n",
        "return text\n",
        "data[“tweet”] = data[“tweet”]. apply(clean)\n",
        "\n",
        "x = np. array(data[“tweet”])\n",
        "y = np. array(data[“labels”])\n",
        "cv = CountVectorizer()\n",
        "X = cv. fit_transform(x)\n",
        "# Splitting the Data\n",
        "X_train, X_test, y_train, y_test = train_test_split(X, y, test_size=0.33, random_state=42)\n",
        "\n",
        "#Model building\n",
        "model = DecisionTreeClassifier()\n",
        "#Training the model\n",
        "model. fit(X_train,y_train)\n",
        "\n",
        "#Testing the model\n",
        "y_pred = model. predict (X_test)\n",
        "y_pred\n",
        "\n",
        "#Accuracy Score of our model\n",
        "from sklearn. metrics import accuracy_score\n",
        "print (accuracy_score (y_test,y_pred))\n",
        "\n",
        "#Predicting the outcome\n",
        "inp = “You are too bad and I dont like your attitude”\n",
        "inp = cv.transform([inp]).toarray()\n",
        "print(model.predict(inp))\n",
        "\n",
        "inp = “It is really awesome”\n",
        "inp = cv. transform([inp]). toarray()\n",
        "print(model. predict(inp))"
      ],
      "metadata": {
        "colab": {
          "base_uri": "https://localhost:8080/",
          "height": 130
        },
        "id": "j_8w7pXOF5o8",
        "outputId": "37f5c5c0-7201-4228-f607-1c8686f83aa6"
      },
      "execution_count": 3,
      "outputs": [
        {
          "output_type": "error",
          "ename": "SyntaxError",
          "evalue": "ignored",
          "traceback": [
            "\u001b[0;36m  File \u001b[0;32m\"<ipython-input-3-a4d71df6a21f>\"\u001b[0;36m, line \u001b[0;32m15\u001b[0m\n\u001b[0;31m    data = pd. read_csv(“labeled_data.csv”)\u001b[0m\n\u001b[0m                                    ^\u001b[0m\n\u001b[0;31mSyntaxError\u001b[0m\u001b[0;31m:\u001b[0m invalid character in identifier\n"
          ]
        }
      ]
    },
    {
      "cell_type": "markdown",
      "source": [
        "[Hate Speech Detection using python](https://copyassignment.com/hate-speech-detection/)\n"
      ],
      "metadata": {
        "id": "PpYCXxa3ITfl"
      }
    }
  ]
}